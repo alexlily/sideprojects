{
 "cells": [
  {
   "cell_type": "code",
   "execution_count": 133,
   "metadata": {
    "collapsed": true
   },
   "outputs": [],
   "source": [
    "import nltk\n",
    "from nltk.util import bigrams\n",
    "import numpy as np\n",
    "import string\n",
    "from nltk.corpus import brown"
   ]
  },
  {
   "cell_type": "code",
   "execution_count": 134,
   "metadata": {
    "collapsed": false
   },
   "outputs": [],
   "source": [
    "text = open(\"upgoerfive.txt\").read()"
   ]
  },
  {
   "cell_type": "code",
   "execution_count": 135,
   "metadata": {
    "collapsed": false
   },
   "outputs": [],
   "source": [
    "texts = [t.lower().strip() for t in text.split(\"Permalink\")]"
   ]
  },
  {
   "cell_type": "code",
   "execution_count": 136,
   "metadata": {
    "collapsed": false
   },
   "outputs": [],
   "source": [
    "words = []\n",
    "for text in texts:\n",
    "    words += nltk.word_tokenize(text)\n",
    "bg = []\n",
    "for text in texts:\n",
    "    bg += bigrams(nltk.word_tokenize(text))\n",
    "\n",
    "# words = [w.lower() for w in brown.words()]\n",
    "# bg = bigrams(words)"
   ]
  },
  {
   "cell_type": "code",
   "execution_count": 137,
   "metadata": {
    "collapsed": false
   },
   "outputs": [],
   "source": [
    "fd = nltk.FreqDist(words)\n",
    "total = sum(fd.values())\n",
    "probs = {key: value/total for key,value in fd.items()}"
   ]
  },
  {
   "cell_type": "code",
   "execution_count": 138,
   "metadata": {
    "collapsed": false
   },
   "outputs": [],
   "source": [
    "bgfd = nltk.FreqDist(bg)\n",
    "total = sum(bgfd.values())\n",
    "transition = {key: value/total for key, value in bgfd.items()}"
   ]
  },
  {
   "cell_type": "code",
   "execution_count": 139,
   "metadata": {
    "collapsed": false
   },
   "outputs": [],
   "source": [
    "# [(word, prob) for word, prob in transition.items() if word[0] == 'this']\n",
    "def first_word():\n",
    "    return np.random.choice(list(probs.keys()), 1, list(probs.values()))[0]\n",
    "def transition_probs(word):\n",
    "    possibilities = {key[1]: value for key, value in transition.items() if key[0] == word}\n",
    "    total = sum(possibilities.values())\n",
    "    possibilities = {key:value/total for key, value in possibilities.items()}\n",
    "    return possibilities\n",
    "def next_word(word):\n",
    "    possibilities = transition_probs(word)\n",
    "    return np.random.choice(list(possibilities.keys()), 1, list(possibilities.values()))[0]\n"
   ]
  },
  {
   "cell_type": "code",
   "execution_count": 140,
   "metadata": {
    "collapsed": false
   },
   "outputs": [
    {
     "data": {
      "text/plain": [
       "'drogo likes big stuff with anger ,'"
      ]
     },
     "execution_count": 140,
     "metadata": {},
     "output_type": "execute_result"
    }
   ],
   "source": [
    "w = first_word()\n",
    "sent = w\n",
    "i = 0\n",
    "while w not in string.punctuation and i < 20:\n",
    "    w = next_word(w)\n",
    "    sent += ' ' + w\n",
    "    i += 1\n",
    "sent"
   ]
  },
  {
   "cell_type": "code",
   "execution_count": 142,
   "metadata": {
    "collapsed": false
   },
   "outputs": [
    {
     "data": {
      "text/plain": [
       "'had'"
      ]
     },
     "execution_count": 142,
     "metadata": {},
     "output_type": "execute_result"
    }
   ],
   "source": [
    "next_word(\"animals\")"
   ]
  },
  {
   "cell_type": "code",
   "execution_count": null,
   "metadata": {
    "collapsed": true
   },
   "outputs": [],
   "source": []
  }
 ],
 "metadata": {
  "kernelspec": {
   "display_name": "Python 3",
   "language": "python",
   "name": "python3"
  },
  "language_info": {
   "codemirror_mode": {
    "name": "ipython",
    "version": 3
   },
   "file_extension": ".py",
   "mimetype": "text/x-python",
   "name": "python",
   "nbconvert_exporter": "python",
   "pygments_lexer": "ipython3",
   "version": "3.3.5"
  }
 },
 "nbformat": 4,
 "nbformat_minor": 0
}
