{
 "cells": [
  {
   "cell_type": "code",
   "execution_count": 74,
   "metadata": {
    "collapsed": true
   },
   "outputs": [],
   "source": [
    "import nltk\n",
    "from nltk.util import bigrams\n",
    "import numpy as np\n",
    "import string\n",
    "from nltk.corpus import brown"
   ]
  },
  {
   "cell_type": "code",
   "execution_count": 79,
   "metadata": {
    "collapsed": false
   },
   "outputs": [
    {
     "data": {
      "text/plain": [
       "[['The', 'Fulton', 'County', 'Grand', 'Jury', 'said', 'Friday', 'an', 'investigation', 'of', \"Atlanta's\", 'recent', 'primary', 'election', 'produced', '``', 'no', 'evidence', \"''\", 'that', 'any', 'irregularities', 'took', 'place', '.'], ['The', 'jury', 'further', 'said', 'in', 'term-end', 'presentments', 'that', 'the', 'City', 'Executive', 'Committee', ',', 'which', 'had', 'over-all', 'charge', 'of', 'the', 'election', ',', '``', 'deserves', 'the', 'praise', 'and', 'thanks', 'of', 'the', 'City', 'of', 'Atlanta', \"''\", 'for', 'the', 'manner', 'in', 'which', 'the', 'election', 'was', 'conducted', '.'], ...]"
      ]
     },
     "execution_count": 79,
     "metadata": {},
     "output_type": "execute_result"
    }
   ],
   "source": [
    "# text = open(\"upgoerfive.txt\").read()"
   ]
  },
  {
   "cell_type": "code",
   "execution_count": 11,
   "metadata": {
    "collapsed": false
   },
   "outputs": [],
   "source": [
    "# texts = [t.lower().strip() for t in text.split(\"Permalink\")]"
   ]
  },
  {
   "cell_type": "code",
   "execution_count": 20,
   "metadata": {
    "collapsed": false
   },
   "outputs": [],
   "source": [
    "# words = []\n",
    "# for text in texts:\n",
    "#     words += nltk.word_tokenize(text)\n",
    "# bg = []\n",
    "# for text in texts:\n",
    "#     bg += bigrams(nltk.word_tokenize(text))\n",
    "\n",
    "words = brown.words()\n",
    "bg = bigrams(words)"
   ]
  },
  {
   "cell_type": "code",
   "execution_count": 26,
   "metadata": {
    "collapsed": false
   },
   "outputs": [],
   "source": [
    "fd = nltk.FreqDist(words)\n",
    "total = sum(fd.values())\n",
    "probs = {key: value/total for key,value in fd.items()}"
   ]
  },
  {
   "cell_type": "code",
   "execution_count": 28,
   "metadata": {
    "collapsed": false
   },
   "outputs": [],
   "source": [
    "bgfd = nltk.FreqDist(bg)\n",
    "total = sum(bgfd.values())\n",
    "transition = {key: value/total for key, value in bgfd.items()}"
   ]
  },
  {
   "cell_type": "code",
   "execution_count": 67,
   "metadata": {
    "collapsed": false
   },
   "outputs": [],
   "source": [
    "# [(word, prob) for word, prob in transition.items() if word[0] == 'this']\n",
    "def first_word():\n",
    "    return np.random.choice(list(probs.keys()), 1, list(probs.values()))[0]\n",
    "def next_word(word):\n",
    "    possibilities = {key[1]: value for key, value in transition.items() if key[0] == word}\n",
    "    total = sum(possibilities.values())\n",
    "    possibilities = {key:value/total for key, value in possibilities.items()}\n",
    "    return np.random.choice(list(possibilities.keys()), 1, list(possibilities.values()))[0]"
   ]
  },
  {
   "cell_type": "code",
   "execution_count": 73,
   "metadata": {
    "collapsed": false
   },
   "outputs": [
    {
     "data": {
      "text/plain": [
       "'fall on again a star gets paid to pay for single-named numbers does ,'"
      ]
     },
     "execution_count": 73,
     "metadata": {},
     "output_type": "execute_result"
    }
   ],
   "source": [
    "w = first_word()\n",
    "words = w\n",
    "i = 0\n",
    "while w not in string.punctuation and i < 20:\n",
    "    w = next_word(w)\n",
    "    words += ' ' + w\n",
    "    i += 1\n",
    "words"
   ]
  },
  {
   "cell_type": "code",
   "execution_count": null,
   "metadata": {
    "collapsed": true
   },
   "outputs": [],
   "source": []
  }
 ],
 "metadata": {
  "kernelspec": {
   "display_name": "Python 3",
   "language": "python",
   "name": "python3"
  },
  "language_info": {
   "codemirror_mode": {
    "name": "ipython",
    "version": 3
   },
   "file_extension": ".py",
   "mimetype": "text/x-python",
   "name": "python",
   "nbconvert_exporter": "python",
   "pygments_lexer": "ipython3",
   "version": "3.3.5"
  }
 },
 "nbformat": 4,
 "nbformat_minor": 0
}
